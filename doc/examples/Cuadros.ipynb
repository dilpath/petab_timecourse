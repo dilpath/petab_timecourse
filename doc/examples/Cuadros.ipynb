{
 "cells": [
  {
   "cell_type": "code",
   "execution_count": 1,
   "id": "160a8c3e",
   "metadata": {},
   "outputs": [
    {
     "ename": "FileNotFoundError",
     "evalue": "[Errno 2] No such file or directory: 'timecourse.tsv'",
     "output_type": "error",
     "traceback": [
      "\u001b[0;31m---------------------------------------------------------------------------\u001b[0m",
      "\u001b[0;31mFileNotFoundError\u001b[0m                         Traceback (most recent call last)",
      "\u001b[0;32m<ipython-input-1-50333538169c>\u001b[0m in \u001b[0;36m<module>\u001b[0;34m\u001b[0m\n\u001b[1;32m     24\u001b[0m \u001b[0;31m#componentwise_timecourses_path = petab_path / 'regimens'\u001b[0m\u001b[0;34m\u001b[0m\u001b[0;34m\u001b[0m\u001b[0;34m\u001b[0m\u001b[0m\n\u001b[1;32m     25\u001b[0m \u001b[0;34m\u001b[0m\u001b[0m\n\u001b[0;32m---> 26\u001b[0;31m \u001b[0mpetab_problem\u001b[0m \u001b[0;34m=\u001b[0m \u001b[0mpetab_timecourse\u001b[0m\u001b[0;34m.\u001b[0m\u001b[0mProblem\u001b[0m\u001b[0;34m.\u001b[0m\u001b[0mfrom_yaml\u001b[0m\u001b[0;34m(\u001b[0m\u001b[0;34m\"Cuadros_HealthPlace2020/petab_training_SBML_Cuadros_HealthPlace2020.yaml\"\u001b[0m\u001b[0;34m)\u001b[0m\u001b[0;34m\u001b[0m\u001b[0;34m\u001b[0m\u001b[0m\n\u001b[0m",
      "\u001b[0;32m~/Documents/future_annex/optimal_control/packages/petab_timecourse/petab_timecourse/problem.py\u001b[0m in \u001b[0;36mfrom_yaml\u001b[0;34m(*args, **kwargs)\u001b[0m\n\u001b[1;32m     46\u001b[0m         \u001b[0;32mif\u001b[0m \u001b[0mlen\u001b[0m\u001b[0;34m(\u001b[0m\u001b[0mtimecourse_files\u001b[0m\u001b[0;34m)\u001b[0m \u001b[0;34m<\u001b[0m \u001b[0;36m1\u001b[0m\u001b[0;34m:\u001b[0m\u001b[0;34m\u001b[0m\u001b[0;34m\u001b[0m\u001b[0m\n\u001b[1;32m     47\u001b[0m             \u001b[0;32mraise\u001b[0m \u001b[0mValueError\u001b[0m\u001b[0;34m(\u001b[0m\u001b[0;34m\"no timecourse files?\"\u001b[0m\u001b[0;34m)\u001b[0m\u001b[0;34m\u001b[0m\u001b[0;34m\u001b[0m\u001b[0m\n\u001b[0;32m---> 48\u001b[0;31m         \u001b[0mtimecourse_df\u001b[0m \u001b[0;34m=\u001b[0m \u001b[0mget_timecourse_df\u001b[0m\u001b[0;34m(\u001b[0m\u001b[0mtimecourse_files\u001b[0m\u001b[0;34m[\u001b[0m\u001b[0;36m0\u001b[0m\u001b[0;34m]\u001b[0m\u001b[0;34m)\u001b[0m\u001b[0;34m\u001b[0m\u001b[0;34m\u001b[0m\u001b[0m\n\u001b[0m\u001b[1;32m     49\u001b[0m \u001b[0;34m\u001b[0m\u001b[0m\n\u001b[1;32m     50\u001b[0m         \u001b[0mproblem\u001b[0m\u001b[0;34m.\u001b[0m\u001b[0mtimecourse_df\u001b[0m \u001b[0;34m=\u001b[0m \u001b[0mtimecourse_df\u001b[0m\u001b[0;34m\u001b[0m\u001b[0;34m\u001b[0m\u001b[0m\n",
      "\u001b[0;32m~/Documents/future_annex/optimal_control/packages/petab_timecourse/petab_timecourse/timecourse.py\u001b[0m in \u001b[0;36mget_timecourse_df\u001b[0;34m(timecourse_file)\u001b[0m\n\u001b[1;32m    262\u001b[0m \u001b[0;34m\u001b[0m\u001b[0m\n\u001b[1;32m    263\u001b[0m     \u001b[0;32mif\u001b[0m \u001b[0misinstance\u001b[0m\u001b[0;34m(\u001b[0m\u001b[0mtimecourse_file\u001b[0m\u001b[0;34m,\u001b[0m \u001b[0;34m(\u001b[0m\u001b[0mstr\u001b[0m\u001b[0;34m,\u001b[0m \u001b[0mPath\u001b[0m\u001b[0;34m)\u001b[0m\u001b[0;34m)\u001b[0m\u001b[0;34m:\u001b[0m\u001b[0;34m\u001b[0m\u001b[0;34m\u001b[0m\u001b[0m\n\u001b[0;32m--> 264\u001b[0;31m         timecourse_file = pd.read_csv(\n\u001b[0m\u001b[1;32m    265\u001b[0m             \u001b[0mtimecourse_file\u001b[0m\u001b[0;34m,\u001b[0m\u001b[0;34m\u001b[0m\u001b[0;34m\u001b[0m\u001b[0m\n\u001b[1;32m    266\u001b[0m             \u001b[0msep\u001b[0m\u001b[0;34m=\u001b[0m\u001b[0;34m'\\t'\u001b[0m\u001b[0;34m,\u001b[0m\u001b[0;34m\u001b[0m\u001b[0;34m\u001b[0m\u001b[0m\n",
      "\u001b[0;32m~/Documents/future_annex/optimal_control/venv/lib/python3.8/site-packages/pandas/util/_decorators.py\u001b[0m in \u001b[0;36mwrapper\u001b[0;34m(*args, **kwargs)\u001b[0m\n\u001b[1;32m    209\u001b[0m                 \u001b[0;32melse\u001b[0m\u001b[0;34m:\u001b[0m\u001b[0;34m\u001b[0m\u001b[0;34m\u001b[0m\u001b[0m\n\u001b[1;32m    210\u001b[0m                     \u001b[0mkwargs\u001b[0m\u001b[0;34m[\u001b[0m\u001b[0mnew_arg_name\u001b[0m\u001b[0;34m]\u001b[0m \u001b[0;34m=\u001b[0m \u001b[0mnew_arg_value\u001b[0m\u001b[0;34m\u001b[0m\u001b[0;34m\u001b[0m\u001b[0m\n\u001b[0;32m--> 211\u001b[0;31m             \u001b[0;32mreturn\u001b[0m \u001b[0mfunc\u001b[0m\u001b[0;34m(\u001b[0m\u001b[0;34m*\u001b[0m\u001b[0margs\u001b[0m\u001b[0;34m,\u001b[0m \u001b[0;34m**\u001b[0m\u001b[0mkwargs\u001b[0m\u001b[0;34m)\u001b[0m\u001b[0;34m\u001b[0m\u001b[0;34m\u001b[0m\u001b[0m\n\u001b[0m\u001b[1;32m    212\u001b[0m \u001b[0;34m\u001b[0m\u001b[0m\n\u001b[1;32m    213\u001b[0m         \u001b[0;32mreturn\u001b[0m \u001b[0mcast\u001b[0m\u001b[0;34m(\u001b[0m\u001b[0mF\u001b[0m\u001b[0;34m,\u001b[0m \u001b[0mwrapper\u001b[0m\u001b[0;34m)\u001b[0m\u001b[0;34m\u001b[0m\u001b[0;34m\u001b[0m\u001b[0m\n",
      "\u001b[0;32m~/Documents/future_annex/optimal_control/venv/lib/python3.8/site-packages/pandas/util/_decorators.py\u001b[0m in \u001b[0;36mwrapper\u001b[0;34m(*args, **kwargs)\u001b[0m\n\u001b[1;32m    329\u001b[0m                     \u001b[0mstacklevel\u001b[0m\u001b[0;34m=\u001b[0m\u001b[0mfind_stack_level\u001b[0m\u001b[0;34m(\u001b[0m\u001b[0;34m)\u001b[0m\u001b[0;34m,\u001b[0m\u001b[0;34m\u001b[0m\u001b[0;34m\u001b[0m\u001b[0m\n\u001b[1;32m    330\u001b[0m                 )\n\u001b[0;32m--> 331\u001b[0;31m             \u001b[0;32mreturn\u001b[0m \u001b[0mfunc\u001b[0m\u001b[0;34m(\u001b[0m\u001b[0;34m*\u001b[0m\u001b[0margs\u001b[0m\u001b[0;34m,\u001b[0m \u001b[0;34m**\u001b[0m\u001b[0mkwargs\u001b[0m\u001b[0;34m)\u001b[0m\u001b[0;34m\u001b[0m\u001b[0;34m\u001b[0m\u001b[0m\n\u001b[0m\u001b[1;32m    332\u001b[0m \u001b[0;34m\u001b[0m\u001b[0m\n\u001b[1;32m    333\u001b[0m         \u001b[0;31m# error: \"Callable[[VarArg(Any), KwArg(Any)], Any]\" has no\u001b[0m\u001b[0;34m\u001b[0m\u001b[0;34m\u001b[0m\u001b[0;34m\u001b[0m\u001b[0m\n",
      "\u001b[0;32m~/Documents/future_annex/optimal_control/venv/lib/python3.8/site-packages/pandas/io/parsers/readers.py\u001b[0m in \u001b[0;36mread_csv\u001b[0;34m(filepath_or_buffer, sep, delimiter, header, names, index_col, usecols, squeeze, prefix, mangle_dupe_cols, dtype, engine, converters, true_values, false_values, skipinitialspace, skiprows, skipfooter, nrows, na_values, keep_default_na, na_filter, verbose, skip_blank_lines, parse_dates, infer_datetime_format, keep_date_col, date_parser, dayfirst, cache_dates, iterator, chunksize, compression, thousands, decimal, lineterminator, quotechar, quoting, doublequote, escapechar, comment, encoding, encoding_errors, dialect, error_bad_lines, warn_bad_lines, on_bad_lines, delim_whitespace, low_memory, memory_map, float_precision, storage_options)\u001b[0m\n\u001b[1;32m    948\u001b[0m     \u001b[0mkwds\u001b[0m\u001b[0;34m.\u001b[0m\u001b[0mupdate\u001b[0m\u001b[0;34m(\u001b[0m\u001b[0mkwds_defaults\u001b[0m\u001b[0;34m)\u001b[0m\u001b[0;34m\u001b[0m\u001b[0;34m\u001b[0m\u001b[0m\n\u001b[1;32m    949\u001b[0m \u001b[0;34m\u001b[0m\u001b[0m\n\u001b[0;32m--> 950\u001b[0;31m     \u001b[0;32mreturn\u001b[0m \u001b[0m_read\u001b[0m\u001b[0;34m(\u001b[0m\u001b[0mfilepath_or_buffer\u001b[0m\u001b[0;34m,\u001b[0m \u001b[0mkwds\u001b[0m\u001b[0;34m)\u001b[0m\u001b[0;34m\u001b[0m\u001b[0;34m\u001b[0m\u001b[0m\n\u001b[0m\u001b[1;32m    951\u001b[0m \u001b[0;34m\u001b[0m\u001b[0m\n\u001b[1;32m    952\u001b[0m \u001b[0;34m\u001b[0m\u001b[0m\n",
      "\u001b[0;32m~/Documents/future_annex/optimal_control/venv/lib/python3.8/site-packages/pandas/io/parsers/readers.py\u001b[0m in \u001b[0;36m_read\u001b[0;34m(filepath_or_buffer, kwds)\u001b[0m\n\u001b[1;32m    603\u001b[0m \u001b[0;34m\u001b[0m\u001b[0m\n\u001b[1;32m    604\u001b[0m     \u001b[0;31m# Create the parser.\u001b[0m\u001b[0;34m\u001b[0m\u001b[0;34m\u001b[0m\u001b[0;34m\u001b[0m\u001b[0m\n\u001b[0;32m--> 605\u001b[0;31m     \u001b[0mparser\u001b[0m \u001b[0;34m=\u001b[0m \u001b[0mTextFileReader\u001b[0m\u001b[0;34m(\u001b[0m\u001b[0mfilepath_or_buffer\u001b[0m\u001b[0;34m,\u001b[0m \u001b[0;34m**\u001b[0m\u001b[0mkwds\u001b[0m\u001b[0;34m)\u001b[0m\u001b[0;34m\u001b[0m\u001b[0;34m\u001b[0m\u001b[0m\n\u001b[0m\u001b[1;32m    606\u001b[0m \u001b[0;34m\u001b[0m\u001b[0m\n\u001b[1;32m    607\u001b[0m     \u001b[0;32mif\u001b[0m \u001b[0mchunksize\u001b[0m \u001b[0;32mor\u001b[0m \u001b[0miterator\u001b[0m\u001b[0;34m:\u001b[0m\u001b[0;34m\u001b[0m\u001b[0;34m\u001b[0m\u001b[0m\n",
      "\u001b[0;32m~/Documents/future_annex/optimal_control/venv/lib/python3.8/site-packages/pandas/io/parsers/readers.py\u001b[0m in \u001b[0;36m__init__\u001b[0;34m(self, f, engine, **kwds)\u001b[0m\n\u001b[1;32m   1440\u001b[0m \u001b[0;34m\u001b[0m\u001b[0m\n\u001b[1;32m   1441\u001b[0m         \u001b[0mself\u001b[0m\u001b[0;34m.\u001b[0m\u001b[0mhandles\u001b[0m\u001b[0;34m:\u001b[0m \u001b[0mIOHandles\u001b[0m \u001b[0;34m|\u001b[0m \u001b[0;32mNone\u001b[0m \u001b[0;34m=\u001b[0m \u001b[0;32mNone\u001b[0m\u001b[0;34m\u001b[0m\u001b[0;34m\u001b[0m\u001b[0m\n\u001b[0;32m-> 1442\u001b[0;31m         \u001b[0mself\u001b[0m\u001b[0;34m.\u001b[0m\u001b[0m_engine\u001b[0m \u001b[0;34m=\u001b[0m \u001b[0mself\u001b[0m\u001b[0;34m.\u001b[0m\u001b[0m_make_engine\u001b[0m\u001b[0;34m(\u001b[0m\u001b[0mf\u001b[0m\u001b[0;34m,\u001b[0m \u001b[0mself\u001b[0m\u001b[0;34m.\u001b[0m\u001b[0mengine\u001b[0m\u001b[0;34m)\u001b[0m\u001b[0;34m\u001b[0m\u001b[0;34m\u001b[0m\u001b[0m\n\u001b[0m\u001b[1;32m   1443\u001b[0m \u001b[0;34m\u001b[0m\u001b[0m\n\u001b[1;32m   1444\u001b[0m     \u001b[0;32mdef\u001b[0m \u001b[0mclose\u001b[0m\u001b[0;34m(\u001b[0m\u001b[0mself\u001b[0m\u001b[0;34m)\u001b[0m \u001b[0;34m->\u001b[0m \u001b[0;32mNone\u001b[0m\u001b[0;34m:\u001b[0m\u001b[0;34m\u001b[0m\u001b[0;34m\u001b[0m\u001b[0m\n",
      "\u001b[0;32m~/Documents/future_annex/optimal_control/venv/lib/python3.8/site-packages/pandas/io/parsers/readers.py\u001b[0m in \u001b[0;36m_make_engine\u001b[0;34m(self, f, engine)\u001b[0m\n\u001b[1;32m   1733\u001b[0m                 \u001b[0;32mif\u001b[0m \u001b[0;34m\"b\"\u001b[0m \u001b[0;32mnot\u001b[0m \u001b[0;32min\u001b[0m \u001b[0mmode\u001b[0m\u001b[0;34m:\u001b[0m\u001b[0;34m\u001b[0m\u001b[0;34m\u001b[0m\u001b[0m\n\u001b[1;32m   1734\u001b[0m                     \u001b[0mmode\u001b[0m \u001b[0;34m+=\u001b[0m \u001b[0;34m\"b\"\u001b[0m\u001b[0;34m\u001b[0m\u001b[0;34m\u001b[0m\u001b[0m\n\u001b[0;32m-> 1735\u001b[0;31m             self.handles = get_handle(\n\u001b[0m\u001b[1;32m   1736\u001b[0m                 \u001b[0mf\u001b[0m\u001b[0;34m,\u001b[0m\u001b[0;34m\u001b[0m\u001b[0;34m\u001b[0m\u001b[0m\n\u001b[1;32m   1737\u001b[0m                 \u001b[0mmode\u001b[0m\u001b[0;34m,\u001b[0m\u001b[0;34m\u001b[0m\u001b[0;34m\u001b[0m\u001b[0m\n",
      "\u001b[0;32m~/Documents/future_annex/optimal_control/venv/lib/python3.8/site-packages/pandas/io/common.py\u001b[0m in \u001b[0;36mget_handle\u001b[0;34m(path_or_buf, mode, encoding, compression, memory_map, is_text, errors, storage_options)\u001b[0m\n\u001b[1;32m    854\u001b[0m         \u001b[0;32mif\u001b[0m \u001b[0mioargs\u001b[0m\u001b[0;34m.\u001b[0m\u001b[0mencoding\u001b[0m \u001b[0;32mand\u001b[0m \u001b[0;34m\"b\"\u001b[0m \u001b[0;32mnot\u001b[0m \u001b[0;32min\u001b[0m \u001b[0mioargs\u001b[0m\u001b[0;34m.\u001b[0m\u001b[0mmode\u001b[0m\u001b[0;34m:\u001b[0m\u001b[0;34m\u001b[0m\u001b[0;34m\u001b[0m\u001b[0m\n\u001b[1;32m    855\u001b[0m             \u001b[0;31m# Encoding\u001b[0m\u001b[0;34m\u001b[0m\u001b[0;34m\u001b[0m\u001b[0;34m\u001b[0m\u001b[0m\n\u001b[0;32m--> 856\u001b[0;31m             handle = open(\n\u001b[0m\u001b[1;32m    857\u001b[0m                 \u001b[0mhandle\u001b[0m\u001b[0;34m,\u001b[0m\u001b[0;34m\u001b[0m\u001b[0;34m\u001b[0m\u001b[0m\n\u001b[1;32m    858\u001b[0m                 \u001b[0mioargs\u001b[0m\u001b[0;34m.\u001b[0m\u001b[0mmode\u001b[0m\u001b[0;34m,\u001b[0m\u001b[0;34m\u001b[0m\u001b[0;34m\u001b[0m\u001b[0m\n",
      "\u001b[0;31mFileNotFoundError\u001b[0m: [Errno 2] No such file or directory: 'timecourse.tsv'"
     ]
    }
   ],
   "source": [
    "from pathlib import Path\n",
    "import shutil\n",
    "\n",
    "import amici\n",
    "import amici.petab_import\n",
    "import amici.petab_objective\n",
    "from more_itertools import one\n",
    "import numpy as np\n",
    "import petab                                                                                                                                                                                                                                                                                                                                                                                                                                                                                                                                                                                             \n",
    "\n",
    "\n",
    "import petab_timecourse\n",
    "#from petab_timecourse import (\n",
    "#    import_directory_of_componentwise_files,\n",
    "#)\n",
    "\n",
    "#model_name = 'Cuadros_HealthPlace2020'\n",
    "\n",
    "#simulation_duration = 205  # simulated time\n",
    "#output_density = 10  # number of output timepoints per simulated time unit\n",
    "\n",
    "#petab_path = Path(model_name)\n",
    "\n",
    "#componentwise_timecourses_path = petab_path / 'regimens'\n",
    "\n",
    "petab_problem = petab_timecourse.Problem.from_yaml(\"Cuadros_HealthPlace2020/petab_training_SBML_Cuadros_HealthPlace2020.yaml\")"
   ]
  },
  {
   "cell_type": "code",
   "execution_count": 2,
   "id": "7895bcfd",
   "metadata": {},
   "outputs": [],
   "source": [
    "petab_yaml_location = str(one(petab_path.glob('*yaml')))\n",
    "petab_problem = petab.Problem.from_yaml(str(one(petab_path.glob('*yaml'))))\n",
    "\n",
    "import copy\n",
    "original_petab_problem = copy.deepcopy(petab_problem)"
   ]
  },
  {
   "cell_type": "code",
   "execution_count": 3,
   "id": "8c17210c",
   "metadata": {},
   "outputs": [
    {
     "name": "stdout",
     "output_type": "stream",
     "text": [
      "[{'epsilon': 1.0}, {'epsilon': 0.2}, {'epsilon': 1.0}]\n",
      "                                                            timecourse\n",
      "timecourseId                                                          \n",
      "timecourse_regimens  1.0:{'epsilon': 1.0};22.0:{'epsilon': 0.2};75....\n"
     ]
    },
    {
     "ename": "AttributeError",
     "evalue": "'dict' object has no attribute 'condition_id'",
     "output_type": "error",
     "traceback": [
      "\u001b[0;31m---------------------------------------------------------------------------\u001b[0m",
      "\u001b[0;31mAttributeError\u001b[0m                            Traceback (most recent call last)",
      "\u001b[0;32m<ipython-input-3-ed450ef2e2d9>\u001b[0m in \u001b[0;36m<module>\u001b[0;34m\u001b[0m\n\u001b[0;32m----> 1\u001b[0;31m timecourse_df, condition_df = import_directory_of_componentwise_files(\n\u001b[0m\u001b[1;32m      2\u001b[0m     \u001b[0mcomponentwise_timecourses_path\u001b[0m\u001b[0;34m,\u001b[0m\u001b[0;34m\u001b[0m\u001b[0;34m\u001b[0m\u001b[0m\n\u001b[1;32m      3\u001b[0m )\n\u001b[1;32m      4\u001b[0m \u001b[0mpetab_problem\u001b[0m \u001b[0;34m=\u001b[0m \u001b[0mpetab\u001b[0m\u001b[0;34m.\u001b[0m\u001b[0mProblem\u001b[0m\u001b[0;34m.\u001b[0m\u001b[0mfrom_yaml\u001b[0m\u001b[0;34m(\u001b[0m\u001b[0mpetab_yaml_location\u001b[0m\u001b[0;34m)\u001b[0m\u001b[0;34m\u001b[0m\u001b[0;34m\u001b[0m\u001b[0m\n\u001b[1;32m      5\u001b[0m \u001b[0mpetab_problem\u001b[0m\u001b[0;34m.\u001b[0m\u001b[0mcondition_df\u001b[0m \u001b[0;34m=\u001b[0m \u001b[0mcondition_df\u001b[0m\u001b[0;34m\u001b[0m\u001b[0;34m\u001b[0m\u001b[0m\n",
      "\u001b[0;32m~/Documents/future_annex/optimal_control/packages/petab_timecourse/petab_timecourse/format.py\u001b[0m in \u001b[0;36mimport_directory_of_componentwise_files\u001b[0;34m(directory, timecourse_id)\u001b[0m\n\u001b[1;32m    100\u001b[0m     \u001b[0mprint\u001b[0m\u001b[0;34m(\u001b[0m\u001b[0mtimecourse_df\u001b[0m\u001b[0;34m)\u001b[0m\u001b[0;34m\u001b[0m\u001b[0;34m\u001b[0m\u001b[0m\n\u001b[1;32m    101\u001b[0m     \u001b[0;31m# TODO duplicated from \"to_petab_files\"...\u001b[0m\u001b[0;34m\u001b[0m\u001b[0;34m\u001b[0m\u001b[0;34m\u001b[0m\u001b[0m\n\u001b[0;32m--> 102\u001b[0;31m     condition_df = pd.DataFrame(data=[\n\u001b[0m\u001b[1;32m    103\u001b[0m         {\n\u001b[1;32m    104\u001b[0m             **{\n",
      "\u001b[0;32m~/Documents/future_annex/optimal_control/packages/petab_timecourse/petab_timecourse/format.py\u001b[0m in \u001b[0;36m<listcomp>\u001b[0;34m(.0)\u001b[0m\n\u001b[1;32m    103\u001b[0m         {\n\u001b[1;32m    104\u001b[0m             **{\n\u001b[0;32m--> 105\u001b[0;31m                 \u001b[0mCONDITION_ID\u001b[0m\u001b[0;34m:\u001b[0m \u001b[0mcondition\u001b[0m\u001b[0;34m.\u001b[0m\u001b[0mcondition_id\u001b[0m\u001b[0;34m,\u001b[0m\u001b[0;34m\u001b[0m\u001b[0;34m\u001b[0m\u001b[0m\n\u001b[0m\u001b[1;32m    106\u001b[0m                 \u001b[0mCONDITION_NAME\u001b[0m\u001b[0;34m:\u001b[0m \u001b[0mcondition\u001b[0m\u001b[0;34m.\u001b[0m\u001b[0mname\u001b[0m\u001b[0;34m,\u001b[0m\u001b[0;34m\u001b[0m\u001b[0;34m\u001b[0m\u001b[0m\n\u001b[1;32m    107\u001b[0m             },\n",
      "\u001b[0;31mAttributeError\u001b[0m: 'dict' object has no attribute 'condition_id'"
     ]
    }
   ],
   "source": [
    "timecourse_df, condition_df = import_directory_of_componentwise_files(\n",
    "    componentwise_timecourses_path,\n",
    ")\n",
    "petab_problem = petab.Problem.from_yaml(petab_yaml_location)\n",
    "petab_problem.condition_df = condition_df\n",
    "petab_problem.timecourse_df = timecourse_df\n",
    "petab_problem.sbml_model = petab_timecourse.sbml.add_timecourse_as_events(\n",
    "    petab_problem,\n",
    "    timecourse_id=one(petab_problem.timecourse_df.index),\n",
    ")\n",
    "petab_problem.condition_df = original_petab_problem.condition_df"
   ]
  },
  {
   "cell_type": "code",
   "execution_count": null,
   "id": "dd7d8010",
   "metadata": {},
   "outputs": [],
   "source": [
    "#amici_model = amici.petab_import.import_petab_problem(petab_problem, force_compile=True)\n",
    "amici_model = amici.petab_import.import_petab_problem(petab_problem)"
   ]
  },
  {
   "cell_type": "code",
   "execution_count": null,
   "id": "2f2cb5d9",
   "metadata": {},
   "outputs": [],
   "source": [
    "sim = amici.petab_objective.simulate_petab(petab_problem, amici_model)"
   ]
  },
  {
   "cell_type": "code",
   "execution_count": null,
   "id": "ba4a429b",
   "metadata": {},
   "outputs": [],
   "source": [
    "from amici.plotting import plotObservableTrajectories\n",
    "import matplotlib.pyplot as plt\n",
    "observable_indices=[amici_model.getObservableIds().index('observable_epsilon')]\n",
    "plotObservableTrajectories(sim['rdatas'][0], model=amici_model, observable_indices=observable_indices)\n",
    "plt.show()"
   ]
  },
  {
   "cell_type": "code",
   "execution_count": null,
   "id": "90b16ad9",
   "metadata": {},
   "outputs": [],
   "source": [
    "from libsbml import formulaToL3String\n",
    "print('trigger\\t\\tcomponent\\tvalue')\n",
    "for e in petab_problem.sbml_model.getListOfEvents():\n",
    "    print(formulaToL3String(e.getTrigger().getMath()), end='\\t')\n",
    "    for a in e.getListOfEventAssignments():\n",
    "        print(a.getVariable(), end='\\t\\t')\n",
    "        print(formulaToL3String(a.getMath()))"
   ]
  },
  {
   "cell_type": "code",
   "execution_count": null,
   "id": "68b9336a",
   "metadata": {
    "scrolled": true
   },
   "outputs": [],
   "source": [
    "import pypesto.petab\n",
    "# Import the problem and compile the model.\n",
    "_importer = pypesto.petab.PetabImporter.from_yaml(petab_yaml_location)\n",
    "#pypesto_problem = _importer.create_problem(force_compile=True)\n",
    "pypesto_problem = _importer.create_problem(force_compile=True)"
   ]
  },
  {
   "cell_type": "code",
   "execution_count": null,
   "id": "e9ac7ec3",
   "metadata": {},
   "outputs": [],
   "source": [
    "from amici.plotting import plotObservableTrajectories\n",
    "import matplotlib.pyplot as plt\n",
    "\n",
    "# Simulate and plot the timecourse parameter.\n",
    "observable_indices=[pypesto_problem.objective.amici_model.getObservableIds().index('observable_epsilon')]\n",
    "\n",
    "t = np.linspace(0, simulation_duration, simulation_duration*output_density + 1)\n",
    "pypesto_problem.objective.amici_model.setTimepoints(t)\n",
    "\n",
    "par_dict = pypesto_problem.objective.par_arr_to_dct(petab_problem.x_nominal)\n",
    "ignored_pars = set(par_dict.keys()).difference(pypesto_problem.objective.amici_model.getParameterIds())\n",
    "pypesto_problem.objective.amici_model.setParameterById({\n",
    "    k: v\n",
    "    for k, v in par_dict.items()\n",
    "    if k not in ignored_pars\n",
    "})\n",
    "rdata = amici.runAmiciSimulation(\n",
    "    pypesto_problem.objective.amici_model,\n",
    "    pypesto_problem.objective.amici_solver,\n",
    ")\n",
    "plotObservableTrajectories(\n",
    "    rdata,\n",
    "    model=pypesto_problem.objective.amici_model,\n",
    "    observable_indices=observable_indices,\n",
    ")\n",
    "plt.show()"
   ]
  },
  {
   "cell_type": "code",
   "execution_count": null,
   "id": "adc18620",
   "metadata": {},
   "outputs": [],
   "source": [
    "import pypesto.engine\n",
    "import pypesto.optimize\n",
    "\n",
    "#optimizer = pypesto.optimize.ScipyOptimizer()\n",
    "#engine = pypesto.engine.MultiProcessEngine()\n",
    "\n",
    "optimizer = pypesto.optimize.FidesOptimizer()\n",
    "engine = pypesto.engine.MultiProcessEngine()\n",
    "\n",
    "pypesto_result = pypesto.optimize.minimize(\n",
    "    problem=pypesto_problem,\n",
    "    optimizer=optimizer,\n",
    "    n_starts=16,\n",
    "    engine=engine,\n",
    ")"
   ]
  },
  {
   "cell_type": "code",
   "execution_count": null,
   "id": "59376abc",
   "metadata": {},
   "outputs": [],
   "source": [
    "import pypesto.visualize\n",
    "import matplotlib.pyplot as plt\n",
    "# Plot optimization information.\n",
    "pypesto.visualize.waterfall(pypesto_result)\n",
    "pypesto.visualize.parameters(pypesto_result)\n",
    "plt.show()"
   ]
  },
  {
   "cell_type": "code",
   "execution_count": null,
   "id": "4bb7bfde",
   "metadata": {},
   "outputs": [],
   "source": [
    "# Simulate and plot the MLE\n",
    "'''\n",
    "from amici.plotting import plotStateTrajectories, plotObservableTrajectories\n",
    "import matplotlib.pyplot as plt\n",
    "t = np.linspace(0, simulation_duration, simulation_duration*output_density + 1)\n",
    "pypesto_problem.objective.amici_model.setTimepoints(t)\n",
    "for start in pypesto_result.optimize_result.list:\n",
    "    par_dict = pypesto_problem.objective.par_arr_to_dct(np.power(10, start['x']))\n",
    "    ignored_pars = set(par_dict.keys()).difference(pypesto_problem.objective.amici_model.getParameterIds())\n",
    "    pypesto_problem.objective.amici_model.setParameterById({\n",
    "        k: v\n",
    "        for k, v in par_dict.items()\n",
    "        if k not in ignored_pars\n",
    "    })\n",
    "    #pypesto_problem.objective.amici_model.setParameters(\n",
    "    #    np.power(10, start['x']),\n",
    "    #)\n",
    "    #solver = model.getSolver()\n",
    "    rdata = amici.runAmiciSimulation(\n",
    "        pypesto_problem.objective.amici_model,\n",
    "        pypesto_problem.objective.amici_solver,\n",
    "    )\n",
    "     \n",
    "    #plotStateTrajectories(rdata, model=pypesto_problem.objective.amici_model)\n",
    "    plotObservableTrajectories(\n",
    "        rdata,\n",
    "        model=pypesto_problem.objective.amici_model,\n",
    "        observable_indices=observable_indices,\n",
    "    )\n",
    "    #plt.plot(t, [get_expected_x(t_i) for t_i in t])\n",
    "    plt.show()\n",
    "'''"
   ]
  },
  {
   "cell_type": "code",
   "execution_count": null,
   "id": "f79d18d4",
   "metadata": {},
   "outputs": [],
   "source": [
    "#print(pypesto_problem.objective.amici_model.getObservableIds())\n",
    "for start in pypesto_result.optimize_result.list[:1]:\n",
    "    observable_indices=[pypesto_problem.objective.amici_model.getObservableIds().index('observable_Total_cumulative_cases')]\n",
    "    par_dict = pypesto_problem.objective.par_arr_to_dct(np.power(10, start['x']))\n",
    "    ignored_pars = set(par_dict.keys()).difference(pypesto_problem.objective.amici_model.getParameterIds())\n",
    "    pypesto_problem.objective.amici_model.setParameterById({\n",
    "        k: v\n",
    "        for k, v in par_dict.items()\n",
    "        if k not in ignored_pars\n",
    "    })\n",
    "    #pypesto_problem.objective.amici_model.setParameters(\n",
    "    #    np.power(10, start['x']),\n",
    "    #)\n",
    "    #solver = model.getSolver()\n",
    "    pypesto_problem.objective.amici_model.setTimepoints(np.linspace(0, 80, 801))\n",
    "    rdata = amici.runAmiciSimulation(\n",
    "        pypesto_problem.objective.amici_model,\n",
    "        pypesto_problem.objective.amici_solver,\n",
    "    )\n",
    "     \n",
    "    #plotStateTrajectories(rdata, model=pypesto_problem.objective.amici_model)\n",
    "    fig, ax = plt.subplots(figsize=(20,10))\n",
    "    plotObservableTrajectories(\n",
    "        rdata,\n",
    "        model=pypesto_problem.objective.amici_model,\n",
    "        observable_indices=observable_indices,\n",
    "        ax=ax,\n",
    "    )\n",
    "    #ax.set_yscale('log')\n",
    "    #plt.plot(t, [get_expected_x(t_i) for t_i in t])\n",
    "    plt.show()"
   ]
  },
  {
   "cell_type": "code",
   "execution_count": null,
   "id": "87e37f5c",
   "metadata": {},
   "outputs": [],
   "source": [
    "pypesto_problem.objective.check_grad_multi_eps(x=petab_problem.x_nominal_free)"
   ]
  },
  {
   "cell_type": "code",
   "execution_count": null,
   "id": "901e6964",
   "metadata": {},
   "outputs": [],
   "source": []
  }
 ],
 "metadata": {
  "kernelspec": {
   "display_name": "Python 3",
   "language": "python",
   "name": "python3"
  },
  "language_info": {
   "codemirror_mode": {
    "name": "ipython",
    "version": 3
   },
   "file_extension": ".py",
   "mimetype": "text/x-python",
   "name": "python",
   "nbconvert_exporter": "python",
   "pygments_lexer": "ipython3",
   "version": "3.8.10"
  }
 },
 "nbformat": 4,
 "nbformat_minor": 5
}
